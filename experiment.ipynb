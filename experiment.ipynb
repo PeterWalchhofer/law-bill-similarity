{
 "cells": [
  {
   "cell_type": "code",
   "execution_count": 52,
   "metadata": {},
   "outputs": [
    {
     "name": "stdout",
     "output_type": "stream",
     "text": [
      "The autoreload extension is already loaded. To reload it, use:\n",
      "  %reload_ext autoreload\n"
     ]
    }
   ],
   "source": [
    "import polars as pl\n",
    "from polars import col\n",
    "from bill_law_similarity.vector import preprocess, compute_cosine_similarity\n",
    "from bill_law_similarity.docu_toads import docu_toads_similarity\n",
    "from bill_law_similarity.bow import bow_overlap, bow_pos_overlap\n",
    "from bill_law_similarity.string_diff import diff\n",
    "from bill_law_similarity.deep import bert_align, bert_cosine, bert_avg_pool, bert_max_avg\n",
    "from bill_law_similarity.string_diff import sw_align\n",
    "import jaro\n",
    "\n",
    "%load_ext autoreload\n",
    "%autoreload 2"
   ]
  },
  {
   "cell_type": "code",
   "execution_count": 53,
   "metadata": {},
   "outputs": [],
   "source": [
    "def load_df(type, lang=\"de\"):\n",
    "    df = pl.read_csv(f\"data/annotated/{type}_sub_sec_pairs.csv\").rename(\n",
    "        {\"sec_a_text\": \"bill_text\", \"sec_b_text\": \"law_text\"}\n",
    "    )\n",
    "    preprocessed = preprocess(df, lang)\n",
    "    return preprocessed\n"
   ]
  },
  {
   "cell_type": "code",
   "execution_count": 54,
   "metadata": {},
   "outputs": [],
   "source": [
    "def comparison_wrapper(col_a, col_b, func, name):\n",
    "    return (\n",
    "        pl.struct([pl.col(col_a), pl.col(col_b)])\n",
    "        .apply(lambda x_dict: func(x_dict[col_a], x_dict[col_b]))\n",
    "        .alias(name)\n",
    "    )\n",
    "\n",
    "\n",
    "def pos_bow_ol_wrapper(col_a, col_b, col_a_tags, col_b_tags, func, name):\n",
    "    return (\n",
    "        pl.struct(\n",
    "            [pl.col(col_a), pl.col(col_b), pl.col(col_a_tags), pl.col(col_b_tags)]\n",
    "        )\n",
    "        .apply(\n",
    "            lambda x_dict: func(\n",
    "                x_dict[col_a], x_dict[col_a_tags], x_dict[col_b], x_dict[col_b_tags]\n",
    "            )\n",
    "        )\n",
    "        .alias(name)\n",
    "    )\n",
    "\n",
    "\n",
    "def similarity_metrics(df):\n",
    "    # Polars paralellizes with_columns(). For some reason, it crashes with BERT -> workaround\n",
    "    df_deep = df.with_columns([comparison_wrapper(\"bill_sents\", \"law_sents\", bert_align, \"bert_aligned\")])\n",
    "    df_deep = df_deep.with_columns([comparison_wrapper(\"bill_sents\", \"law_sents\", bert_avg_pool, \"bert_avg_pool\")])\n",
    "    df_deep = df_deep.with_columns([comparison_wrapper(\"bill_sents\", \"law_sents\", bert_max_avg, \"bert_max_avg\")])\n",
    "    df_deep = df_deep.with_columns([comparison_wrapper(\"bill_text\", \"law_text\", bert_cosine, \"bert_full\")])\n",
    "\n",
    "    tfidf_cos_sim = compute_cosine_similarity(df)\n",
    "    tfidf_cos_sim_bigram = compute_cosine_similarity(df, (2,2))\n",
    "    tfidf_cos_sim_lemma = compute_cosine_similarity(df)\n",
    "    tfidf_cos_sim_bigram_lemma = compute_cosine_similarity(df, (2,2))\n",
    "\n",
    "    return df_deep.with_columns(\n",
    "        [\n",
    "            # pl.col([\"bert_aligned\", \"bert_avg_pool\", \"bert_max_avg\", \"bert_full\"]),\n",
    "            # TF_IDF Cos-Sim\n",
    "            pl.Series(tfidf_cos_sim).alias(\"tfidf_cos_sim\"),\n",
    "            pl.Series(tfidf_cos_sim_bigram).alias(\"tfidf_cos_sim_bigram\"),\n",
    "            pl.Series(tfidf_cos_sim_lemma).alias(\"tfidf_cos_sim_lemma\"),\n",
    "            pl.Series(tfidf_cos_sim_bigram_lemma).alias(\"tfidf_cos_sim_bigram_lemma\"),\n",
    "            # SW Align\n",
    "            comparison_wrapper(\"bill_text\", \"law_text\", sw_align, \"sw_align\"),\n",
    "            # DocuToads\n",
    "            comparison_wrapper(\n",
    "                \"bill_tokens\", \"law_tokens\", docu_toads_similarity, \"docu_toads\"\n",
    "            ),\n",
    "              comparison_wrapper(\n",
    "                \"bill_lemmas\", \"law_lemmas\", docu_toads_similarity, \"docu_toads_lemma\"\n",
    "            ),\n",
    "            # BOW Overlap\n",
    "            comparison_wrapper(\"bill_tokens\", \"law_tokens\", bow_overlap, \"bow_ol\"),\n",
    "            comparison_wrapper(\n",
    "                \"bill_tokens\",\n",
    "                \"law_tokens\",\n",
    "                lambda a, b: bow_overlap(a, b, 2),\n",
    "                \"bow_ol_bigrams\",\n",
    "            ),\n",
    "            comparison_wrapper(\"bill_lemmas\", \"law_lemmas\", bow_overlap, \"bow_ol_lemma\"),\n",
    "            comparison_wrapper(\n",
    "               \"bill_lemmas\", \"law_lemmas\",\n",
    "                lambda a, b: bow_overlap(a, b, 2),\n",
    "                \"bow_ol_bigrams_lemma\",\n",
    "            ),\n",
    "            # POS BOW Overlap\n",
    "            pos_bow_ol_wrapper(\n",
    "                \"bill_tokens\",\n",
    "                \"law_tokens\",\n",
    "                \"bill_tags\",\n",
    "                \"law_tags\",\n",
    "                bow_pos_overlap,\n",
    "                \"pos_bow_ol\",\n",
    "            ),\n",
    "            pos_bow_ol_wrapper(\n",
    "                \"bill_tokens\",\n",
    "                \"law_tokens\",\n",
    "                \"bill_tags\",\n",
    "                \"law_tags\",\n",
    "                lambda a, b, c, d: bow_pos_overlap(a, b, c, d, 2),\n",
    "                \"pos_bow_bigrams\",\n",
    "            ),\n",
    "            pos_bow_ol_wrapper(\n",
    "                \"bill_lemmas\",\n",
    "                \"law_lemmas\",\n",
    "                \"bill_tags\",\n",
    "                \"law_tags\",\n",
    "                bow_pos_overlap,\n",
    "                \"pos_bow_ol_lemma\",\n",
    "            ),\n",
    "            pos_bow_ol_wrapper(\n",
    "                \"bill_lemmas\",\n",
    "                \"law_lemmas\",\n",
    "                \"bill_tags\",\n",
    "                \"law_tags\",\n",
    "                lambda a, b, c, d: bow_pos_overlap(a, b, c, d, 2),\n",
    "                \"pos_bow_bigrams_lemma\",\n",
    "            ),\n",
    "            # Jaro Winkler\n",
    "            comparison_wrapper(\n",
    "                \"bill_text\", \"law_text\", jaro.jaro_winkler_metric, \"jaro_winkler\"\n",
    "            ),\n",
    "        ]\n",
    "    ).drop([\"bill_sents\", \"law_sents\", \"bill_tokens\", \"law_tokens\", \"bill_tags\", \"law_tags\", \"bill_lemmas\", \"law_lemmas\", \"sec_a_id\", \"sec_b_id\", \"sec_a_title\", \"sec_b_title\", \"bill_text\", \"law_text\", \"label\"])\n"
   ]
  },
  {
   "cell_type": "code",
   "execution_count": 55,
   "metadata": {},
   "outputs": [],
   "source": [
    "def pipeline(lang, to_csv=True):\n",
    "    train = load_df(\"train\", lang)\n",
    "    train = similarity_metrics(train)\n",
    "    \n",
    "    val = load_df(\"val\", lang).sample(10)\n",
    "    val = similarity_metrics(val)\n",
    "    \n",
    "    test = load_df(\"test\", lang)\n",
    "    test = similarity_metrics(test)\n",
    "    try:\n",
    "        if to_csv:\n",
    "            val.write_csv(f\"data/results/val_metrics_{lang}.csv\")\n",
    "            train.write_csv(f\"data/results/train_metrics_{lang}.csv\")\n",
    "            test.write_csv(f\"data/results/test_metrics_{lang}.csv\")\n",
    "    except: \n",
    "        return train, val, test\n",
    "    return train, val, test"
   ]
  },
  {
   "cell_type": "code",
   "execution_count": 5,
   "metadata": {},
   "outputs": [
    {
     "name": "stderr",
     "output_type": "stream",
     "text": [
      "100%|██████████| 3305/3305 [00:31<00:00, 104.82it/s]\n",
      "100%|██████████| 3305/3305 [00:33<00:00, 99.76it/s]\n",
      "100%|██████████| 472/472 [00:04<00:00, 103.32it/s]\n",
      "100%|██████████| 472/472 [00:04<00:00, 98.28it/s]\n",
      "100%|██████████| 944/944 [00:10<00:00, 91.47it/s]\n",
      "100%|██████████| 944/944 [00:10<00:00, 86.79it/s]\n"
     ]
    }
   ],
   "source": [
    "train_metrics_de, val_metrics_de, test_metrics_de = pipeline(\"de\")"
   ]
  },
  {
   "cell_type": "code",
   "execution_count": 6,
   "metadata": {},
   "outputs": [],
   "source": [
    "train_metrics_de = pl.read_csv(\"data/results/train_metrics_de.csv\")\n",
    "val_metrics_de = pl.read_csv(\"data/results/val_metrics_de.csv\")\n",
    "test_metrics_de = pl.read_csv(\"data/results/test_metrics_de.csv\")"
   ]
  },
  {
   "cell_type": "code",
   "execution_count": 37,
   "metadata": {},
   "outputs": [],
   "source": [
    "paper_pred_de = pl.read_csv(\"data/predictions/test_preds_de.csv\")\n",
    "test_metrics_de = test_metrics_de.with_columns([\n",
    "    pl.Series(paper_pred_de[\"paper_preds\"]).alias(\"paper_preds\"),\n",
    "])"
   ]
  },
  {
   "cell_type": "code",
   "execution_count": 57,
   "metadata": {},
   "outputs": [
    {
     "name": "stderr",
     "output_type": "stream",
     "text": [
      "100%|██████████| 3305/3305 [01:01<00:00, 54.01it/s] \n",
      "100%|██████████| 3305/3305 [01:03<00:00, 52.13it/s] \n",
      "100%|██████████| 472/472 [00:06<00:00, 69.68it/s] \n",
      "100%|██████████| 472/472 [00:07<00:00, 62.81it/s] \n",
      "100%|██████████| 944/944 [00:14<00:00, 65.00it/s] \n",
      "100%|██████████| 944/944 [00:15<00:00, 60.32it/s] \n"
     ]
    }
   ],
   "source": [
    "train_metrics_en, val_metrics_en, test_metrics_en = pipeline(\"en\")"
   ]
  },
  {
   "cell_type": "code",
   "execution_count": 48,
   "metadata": {},
   "outputs": [
    {
     "name": "stderr",
     "output_type": "stream",
     "text": [
      "100%|██████████| 944/944 [00:09<00:00, 97.58it/s] \n",
      "100%|██████████| 944/944 [00:10<00:00, 92.64it/s]\n"
     ]
    }
   ],
   "source": [
    "test = load_df(\"test\", \"de\")"
   ]
  },
  {
   "cell_type": "code",
   "execution_count": 49,
   "metadata": {},
   "outputs": [],
   "source": [
    "# spearman correlation\n",
    "from scipy.stats import spearmanr\n",
    "\n",
    "results = []\n",
    "for col in test_metrics_de.columns:\n",
    "    corr = spearmanr(test_metrics_de[col], test[\"label\"])\n",
    "    results.append((col, corr.correlation))\n",
    "\n",
    "    "
   ]
  },
  {
   "cell_type": "code",
   "execution_count": 51,
   "metadata": {},
   "outputs": [],
   "source": [
    "pl.DataFrame(results, schema=[\"method\", \"corr\"]).sort(by=\"corr\",descending=True)#.write_csv(\"data/results/correlations_de.csv\")"
   ]
  },
  {
   "cell_type": "code",
   "execution_count": 6,
   "metadata": {},
   "outputs": [],
   "source": [
    "\n",
    "from sklearn.tree import DecisionTreeClassifier\n",
    "from sklearn.metrics import accuracy_score, f1_score, precision_score, recall_score, classification_report, confusion_matrix\n",
    "\n",
    "results = {}\n",
    "for col in train_metrics.columns:\n",
    "    clf = DecisionTreeClassifier(random_state=0, max_leaf_nodes=5)\n",
    "    clf.fit(train_metrics[col].to_numpy().reshape(-1, 1), train[\"label\"].to_numpy())\n",
    "\n",
    "    y_pred = clf.predict(test_metrics[col].to_numpy().reshape(-1, 1))\n",
    "    labels = test[\"label\"].to_numpy()\n",
    "    \n",
    "    acc = accuracy_score(labels, y_pred)\n",
    "    f1 = f1_score(labels, y_pred, average=\"macro\")\n",
    "    precision = precision_score(labels, y_pred, average=\"macro\", zero_division=0)\n",
    "    recall = recall_score(labels, y_pred, average=\"macro\")\n",
    "    results[col] = {\n",
    "        \"metric\": col,\n",
    "        \"accuracy\": acc,\n",
    "        \"f1\": f1,\n",
    "        \"precision\": precision,\n",
    "        \"recall\": recall,\n",
    "    }\n",
    "\n",
    "\n",
    "    "
   ]
  },
  {
   "cell_type": "code",
   "execution_count": 340,
   "metadata": {},
   "outputs": [
    {
     "data": {
      "text/plain": [
       "array([[466,   0,  17,   0,   0],\n",
       "       [ 31,   0,  25,   4,   0],\n",
       "       [ 27,   0,  56,  49,   4],\n",
       "       [  2,   0,  19,  83,   1],\n",
       "       [  0,   0,   0,   0, 160]])"
      ]
     },
     "execution_count": 340,
     "metadata": {},
     "output_type": "execute_result"
    }
   ],
   "source": [
    "confusion_matrix(labels, y_pred)"
   ]
  },
  {
   "cell_type": "code",
   "execution_count": 332,
   "metadata": {},
   "outputs": [
    {
     "data": {
      "text/html": [
       "<div><style>\n",
       ".dataframe > thead > tr > th,\n",
       ".dataframe > tbody > tr > td {\n",
       "  text-align: right;\n",
       "}\n",
       "</style>\n",
       "<small>shape: (5, 2)</small><table border=\"1\" class=\"dataframe\"><thead><tr><th>label</th><th>counts</th></tr><tr><td>i64</td><td>u32</td></tr></thead><tbody><tr><td>4</td><td>160</td></tr><tr><td>3</td><td>105</td></tr><tr><td>0</td><td>483</td></tr><tr><td>1</td><td>60</td></tr><tr><td>2</td><td>136</td></tr></tbody></table></div>"
      ],
      "text/plain": [
       "shape: (5, 2)\n",
       "┌───────┬────────┐\n",
       "│ label ┆ counts │\n",
       "│ ---   ┆ ---    │\n",
       "│ i64   ┆ u32    │\n",
       "╞═══════╪════════╡\n",
       "│ 4     ┆ 160    │\n",
       "│ 3     ┆ 105    │\n",
       "│ 0     ┆ 483    │\n",
       "│ 1     ┆ 60     │\n",
       "│ 2     ┆ 136    │\n",
       "└───────┴────────┘"
      ]
     },
     "execution_count": 332,
     "metadata": {},
     "output_type": "execute_result"
    }
   ],
   "source": [
    "test[\"label\"].value_counts()"
   ]
  },
  {
   "cell_type": "code",
   "execution_count": 338,
   "metadata": {},
   "outputs": [
    {
     "data": {
      "text/plain": [
       "[Text(0.5, 0.875, 'x[0] <= 0.764\\ngini = 0.672\\nsamples = 3305\\nvalue = [1692, 210, 475, 367, 561]'),\n",
       " Text(0.25, 0.625, 'x[0] <= 0.631\\ngini = 0.211\\nsamples = 1859\\nvalue = [1644, 130, 79, 6, 0]'),\n",
       " Text(0.125, 0.375, 'gini = 0.077\\nsamples = 1478\\nvalue = [1419, 39, 20, 0, 0]'),\n",
       " Text(0.375, 0.375, 'gini = 0.57\\nsamples = 381\\nvalue = [225, 91, 59, 6, 0]'),\n",
       " Text(0.75, 0.625, 'x[0] <= 1.0\\ngini = 0.708\\nsamples = 1446\\nvalue = [48, 80, 396, 361, 561]'),\n",
       " Text(0.625, 0.375, 'x[0] <= 0.922\\ngini = 0.631\\nsamples = 856\\nvalue = [48, 80, 379, 343, 6]'),\n",
       " Text(0.5, 0.125, 'gini = 0.619\\nsamples = 413\\nvalue = [47, 71, 232, 63, 0]'),\n",
       " Text(0.75, 0.125, 'gini = 0.49\\nsamples = 443\\nvalue = [1, 9, 147, 280, 6]'),\n",
       " Text(0.875, 0.375, 'gini = 0.113\\nsamples = 590\\nvalue = [0, 0, 17, 18, 555]')]"
      ]
     },
     "execution_count": 338,
     "metadata": {},
     "output_type": "execute_result"
    },
    {
     "data": {
      "image/png": "[encoded data removed]",
      "text/plain": [
       "<Figure size 640x480 with 1 Axes>"
      ]
     },
     "metadata": {},
     "output_type": "display_data"
    }
   ],
   "source": [
    "from sklearn.tree import plot_tree\n",
    "import matplotlib.pyplot as plt\n",
    "\n",
    "plot_tree(clf)"
   ]
  },
  {
   "cell_type": "code",
   "execution_count": 300,
   "metadata": {},
   "outputs": [
    {
     "data": {
      "text/plain": [
       "dict_values([{'accuracy': 0.7627118644067796, 'f1': 0.6208510684750875, 'precision': 0.6205473075931223, 'recall': 0.6216715381804896}, {'accuracy': 0.7436440677966102, 'f1': 0.5925509931821002, 'precision': 0.596103714123717, 'recall': 0.5900535866520521}, {'accuracy': 0.8114406779661016, 'f1': 0.6770380833354309, 'precision': 0.6817994165937874, 'recall': 0.6737078309584703}, {'accuracy': 0.8188559322033898, 'f1': 0.680153230783604, 'precision': 0.6807414561966956, 'recall': 0.6800864693703568}, {'accuracy': 0.6885593220338984, 'f1': 0.5465039303355419, 'precision': 0.54587128059086, 'recall': 0.5478254780172939}, {'accuracy': 0.746822033898305, 'f1': 0.6073215017775543, 'precision': 0.6101512790718022, 'recall': 0.6050213128729753}, {'accuracy': 0.7584745762711864, 'f1': 0.6123191406114158, 'precision': 0.6142585053659566, 'recall': 0.6111332359030569}, {'accuracy': 0.7171610169491526, 'f1': 0.5835321186149145, 'precision': 0.5829854839250393, 'recall': 0.5846669102423578}, {'accuracy': 0.7648305084745762, 'f1': 0.6272509577744859, 'precision': 0.6260765800926353, 'recall': 0.6288363171355498}])"
      ]
     },
     "execution_count": 300,
     "metadata": {},
     "output_type": "execute_result"
    }
   ],
   "source": [
    "results.values()"
   ]
  },
  {
   "cell_type": "code",
   "execution_count": 7,
   "metadata": {},
   "outputs": [
    {
     "data": {
      "text/html": [
       "<div><style>\n",
       ".dataframe > thead > tr > th,\n",
       ".dataframe > tbody > tr > td {\n",
       "  text-align: right;\n",
       "}\n",
       "</style>\n",
       "<small>shape: (10, 5)</small><table border=\"1\" class=\"dataframe\"><thead><tr><th>metric</th><th>accuracy</th><th>f1</th><th>precision</th><th>recall</th></tr><tr><td>str</td><td>f64</td><td>f64</td><td>f64</td><td>f64</td></tr></thead><tbody><tr><td>&quot;bert_aligned&quot;</td><td>0.777542</td><td>0.582825</td><td>0.598075</td><td>0.581134</td></tr><tr><td>&quot;bert_avg_pool&quot;</td><td>0.792373</td><td>0.592757</td><td>0.589551</td><td>0.599291</td></tr><tr><td>&quot;bert_max_avg&quot;</td><td>0.662076</td><td>0.450413</td><td>0.554102</td><td>0.422731</td></tr><tr><td>&quot;bert_full&quot;</td><td>0.791314</td><td>0.591546</td><td>0.575143</td><td>0.609746</td></tr><tr><td>&quot;tfidf_cos_sim&quot;</td><td>0.806144</td><td>0.613613</td><td>0.612097</td><td>0.62867</td></tr><tr><td>&quot;sw_align&quot;</td><td>0.602754</td><td>0.312034</td><td>0.370784</td><td>0.376812</td></tr><tr><td>&quot;docu_toads&quot;</td><td>0.763771</td><td>0.539539</td><td>0.581896</td><td>0.543926</td></tr><tr><td>&quot;bow_ol&quot;</td><td>0.824153</td><td>0.635002</td><td>0.618282</td><td>0.653091</td></tr><tr><td>&quot;pos_bow_ol&quot;</td><td>0.820975</td><td>0.631337</td><td>0.627036</td><td>0.643845</td></tr><tr><td>&quot;jaro_winkler&quot;</td><td>0.741525</td><td>0.528295</td><td>0.604201</td><td>0.516604</td></tr></tbody></table></div>"
      ],
      "text/plain": [
       "shape: (10, 5)\n",
       "┌───────────────┬──────────┬──────────┬───────────┬──────────┐\n",
       "│ metric        ┆ accuracy ┆ f1       ┆ precision ┆ recall   │\n",
       "│ ---           ┆ ---      ┆ ---      ┆ ---       ┆ ---      │\n",
       "│ str           ┆ f64      ┆ f64      ┆ f64       ┆ f64      │\n",
       "╞═══════════════╪══════════╪══════════╪═══════════╪══════════╡\n",
       "│ bert_aligned  ┆ 0.777542 ┆ 0.582825 ┆ 0.598075  ┆ 0.581134 │\n",
       "│ bert_avg_pool ┆ 0.792373 ┆ 0.592757 ┆ 0.589551  ┆ 0.599291 │\n",
       "│ bert_max_avg  ┆ 0.662076 ┆ 0.450413 ┆ 0.554102  ┆ 0.422731 │\n",
       "│ bert_full     ┆ 0.791314 ┆ 0.591546 ┆ 0.575143  ┆ 0.609746 │\n",
       "│ …             ┆ …        ┆ …        ┆ …         ┆ …        │\n",
       "│ docu_toads    ┆ 0.763771 ┆ 0.539539 ┆ 0.581896  ┆ 0.543926 │\n",
       "│ bow_ol        ┆ 0.824153 ┆ 0.635002 ┆ 0.618282  ┆ 0.653091 │\n",
       "│ pos_bow_ol    ┆ 0.820975 ┆ 0.631337 ┆ 0.627036  ┆ 0.643845 │\n",
       "│ jaro_winkler  ┆ 0.741525 ┆ 0.528295 ┆ 0.604201  ┆ 0.516604 │\n",
       "└───────────────┴──────────┴──────────┴───────────┴──────────┘"
      ]
     },
     "execution_count": 7,
     "metadata": {},
     "output_type": "execute_result"
    }
   ],
   "source": [
    "pl.from_dicts(list(results.values()))"
   ]
  },
  {
   "attachments": {},
   "cell_type": "markdown",
   "metadata": {},
   "source": [
    "EN"
   ]
  },
  {
   "cell_type": "code",
   "execution_count": 339,
   "metadata": {},
   "outputs": [
    {
     "data": {
      "text/html": [
       "<div><style>\n",
       ".dataframe > thead > tr > th,\n",
       ".dataframe > tbody > tr > td {\n",
       "  text-align: right;\n",
       "}\n",
       "</style>\n",
       "<small>shape: (9, 5)</small><table border=\"1\" class=\"dataframe\"><thead><tr><th>metric</th><th>accuracy</th><th>f1</th><th>precision</th><th>recall</th></tr><tr><td>str</td><td>f64</td><td>f64</td><td>f64</td><td>f64</td></tr></thead><tbody><tr><td>&quot;tfidf_cos_sim&quot;</td><td>0.8125</td><td>0.61377</td><td>0.6003</td><td>0.628347</td></tr><tr><td>&quot;docu_toads&quot;</td><td>0.831568</td><td>0.648159</td><td>0.647028</td><td>0.65282</td></tr><tr><td>&quot;bow_ol&quot;</td><td>0.853814</td><td>0.657753</td><td>0.643068</td><td>0.680417</td></tr><tr><td>&quot;pos_bow_ol&quot;</td><td>0.861229</td><td>0.670737</td><td>0.655576</td><td>0.688902</td></tr><tr><td>&quot;jaro_winkler&quot;</td><td>0.753178</td><td>0.498827</td><td>0.476643</td><td>0.531014</td></tr><tr><td>&quot;bert_aligned&quot;</td><td>0.808263</td><td>0.608551</td><td>0.603454</td><td>0.619411</td></tr><tr><td>&quot;bert_avg_pool&quot;</td><td>0.8125</td><td>0.615658</td><td>0.611225</td><td>0.625742</td></tr><tr><td>&quot;bert_max_avg&quot;</td><td>0.729873</td><td>0.528292</td><td>0.567965</td><td>0.514876</td></tr><tr><td>&quot;bert_full&quot;</td><td>0.810381</td><td>0.607957</td><td>0.588911</td><td>0.633409</td></tr></tbody></table></div>"
      ],
      "text/plain": [
       "shape: (9, 5)\n",
       "┌───────────────┬──────────┬──────────┬───────────┬──────────┐\n",
       "│ metric        ┆ accuracy ┆ f1       ┆ precision ┆ recall   │\n",
       "│ ---           ┆ ---      ┆ ---      ┆ ---       ┆ ---      │\n",
       "│ str           ┆ f64      ┆ f64      ┆ f64       ┆ f64      │\n",
       "╞═══════════════╪══════════╪══════════╪═══════════╪══════════╡\n",
       "│ tfidf_cos_sim ┆ 0.8125   ┆ 0.61377  ┆ 0.6003    ┆ 0.628347 │\n",
       "│ docu_toads    ┆ 0.831568 ┆ 0.648159 ┆ 0.647028  ┆ 0.65282  │\n",
       "│ bow_ol        ┆ 0.853814 ┆ 0.657753 ┆ 0.643068  ┆ 0.680417 │\n",
       "│ pos_bow_ol    ┆ 0.861229 ┆ 0.670737 ┆ 0.655576  ┆ 0.688902 │\n",
       "│ jaro_winkler  ┆ 0.753178 ┆ 0.498827 ┆ 0.476643  ┆ 0.531014 │\n",
       "│ bert_aligned  ┆ 0.808263 ┆ 0.608551 ┆ 0.603454  ┆ 0.619411 │\n",
       "│ bert_avg_pool ┆ 0.8125   ┆ 0.615658 ┆ 0.611225  ┆ 0.625742 │\n",
       "│ bert_max_avg  ┆ 0.729873 ┆ 0.528292 ┆ 0.567965  ┆ 0.514876 │\n",
       "│ bert_full     ┆ 0.810381 ┆ 0.607957 ┆ 0.588911  ┆ 0.633409 │\n",
       "└───────────────┴──────────┴──────────┴───────────┴──────────┘"
      ]
     },
     "execution_count": 339,
     "metadata": {},
     "output_type": "execute_result"
    }
   ],
   "source": [
    "pl.from_dicts(list(results.values()))"
   ]
  },
  {
   "cell_type": "code",
   "execution_count": 341,
   "metadata": {},
   "outputs": [],
   "source": [
    "import swalign"
   ]
  },
  {
   "cell_type": "code",
   "execution_count": 414,
   "metadata": {},
   "outputs": [
    {
     "data": {
      "text/plain": [
       "0.6772908366533864"
      ]
     },
     "execution_count": 414,
     "metadata": {},
     "output_type": "execute_result"
    }
   ],
   "source": [
    "alignment.matches / alignment.score"
   ]
  },
  {
   "cell_type": "code",
   "execution_count": 9,
   "metadata": {},
   "outputs": [],
   "source": [
    "from transformers import AutoTokenizer, AutoModelForSeq2SeqLM\n",
    "from transformers import MarianMTModel, MarianTokenizer\n",
    "\n",
    "tokenizer = AutoTokenizer.from_pretrained(\"Helsinki-NLP/opus-mt-en-de\")\n",
    "model = AutoModelForSeq2SeqLM.from_pretrained(\"Helsinki-NLP/opus-mt-en-de\")\n",
    "tokenizer = MarianTokenizer.from_pretrained(\"Helsinki-NLP/opus-mt-en-de\")\n",
    "translated = model.generate(**tokenizer([\"wie geht es dir?\",\" asdas\"], return_tensors=\"pt\", padding=True))"
   ]
  },
  {
   "cell_type": "code",
   "execution_count": 22,
   "metadata": {},
   "outputs": [
    {
     "data": {
      "text/plain": [
       "'1 Inter departmental memorandum of agreement Section 4205 of the Indian Alcohol and Substance Abuse Prevention and Treatment Act of 1986 25 U S C 2411 is amended A in subsection a i in the matter preceding paragraph 1 I by striking the date of enactment of this subtitle and inserting the date of enactment of the Tribal Law and Order Act of 2009 and II by inserting the Attorney General after Secretary of the Interior ii in paragraph 2 A by inserting Bureau of Justice Assistance Substance Abuse and Mental Health Services Administration after Bureau of Indian Affairs iii in paragraph 4 by inserting Department of Justice Substance Abuse and Mental Health Services Administration after Bureau of Indian Affairs iv in paragraph 5 by inserting Department of Justice Substance Abuse and Mental Health Services Administration after Bureau of Indian Affairs v in paragraph 7 by inserting the Attorney General after Secretary of the Interior B in subsection c by inserting the Attorney General after Secretary of the Interior and C in subsection d by striking the date of enactment of this subtitle and inserting the date of enactment of the Tribal Law and Order Act of 2009 2 Tribal action plans Section 4206 of the Indian Alcohol and Substance Abuse Prevention and Treatment Act of 1986 25 U S C 2412 is amended A in subsection b in the first sentence by inserting the Bureau of Justice Assistance the Substance Abuse and Mental Health Services Administration before and the Indian Health Service service unit B in subsection c 1 A i by inserting the Bureau of Justice Assistance the Substance Abuse and Mental Health Services Administration before and the Indian Health Service service unit C in subsection d 2 by striking fiscal year 1993 and such sums as are necessary for each of the fiscal years 1994 1995 1996 1997 1998 1999 and 2000 and inserting the period of fiscal years 2010 through 2014 D in subsection e in the first sentence by inserting the Attorney General after the Secretary of the Interior and E in subsection f 3 by striking fiscal year 1993 and such sums as are necessary for each of the fiscal years 1994 1995 1996 1997 1998 1999 and 2000 and inserting fiscal years 2010 through 2014 3 Departmental responsibility Section 4207 of the Indian Alcohol and Substance Abuse Prevention and Treatment Act of 1986'"
      ]
     },
     "execution_count": 22,
     "metadata": {},
     "output_type": "execute_result"
    }
   ],
   "source": [
    "train[\"bill_text\"][1]"
   ]
  },
  {
   "cell_type": "code",
   "execution_count": 87,
   "metadata": {},
   "outputs": [
    {
     "data": {
      "text/plain": [
       "'Not later than 4 years after the date of enactment of this Act the Secretary shall submit to Congress a report that describes the actions that have been taken to carry out this section including 1 actions taken to address administrative and paperwork burdens identified as a result of compliance with section 119 i of the Child Nutrition and WIC Reauthorization Act of 2004 42 U S C 1766 note Public Law 108 265 2 administrative and paperwork burdens identified as a result of compliance with section 119 i of that Act for which no regulatory action or policy guidance has been taken 3 additional steps that the Secretary is taking or plans to take to address any administrative and paperwork burdens identified under subsection c 2 and paragraph 2 including A new or updated regulations policy guidance or technical assistance and B a timeframe for the completion of those steps and 4 recommendations to Congress for modifications to existing statutory authorities needed to address identified administrative and paperwork burdens'"
      ]
     },
     "execution_count": 87,
     "metadata": {},
     "output_type": "execute_result"
    }
   ],
   "source": [
    " train[\"bill_text\"][4]"
   ]
  },
  {
   "cell_type": "code",
   "execution_count": 33,
   "metadata": {},
   "outputs": [
    {
     "data": {
      "text/plain": [
       "460.8"
      ]
     },
     "execution_count": 33,
     "metadata": {},
     "output_type": "execute_result"
    }
   ],
   "source": [
    "0.9 * 512"
   ]
  },
  {
   "cell_type": "code",
   "execution_count": 2,
   "metadata": {},
   "outputs": [
    {
     "ename": "AttributeError",
     "evalue": "'list' object has no attribute 'size'",
     "output_type": "error",
     "traceback": [
      "\u001b[0;31m---------------------------------------------------------------------------\u001b[0m",
      "\u001b[0;31mAttributeError\u001b[0m                            Traceback (most recent call last)",
      "Cell \u001b[0;32mIn[2], line 1\u001b[0m\n\u001b[0;32m----> 1\u001b[0m model\u001b[39m.\u001b[39;49mforward([\u001b[39m\"\u001b[39;49m\u001b[39mhi\u001b[39;49m\u001b[39m\"\u001b[39;49m])\n",
      "File \u001b[0;32m~/anaconda3/envs/billlaw/lib/python3.11/site-packages/transformers/models/marian/modeling_marian.py:1455\u001b[0m, in \u001b[0;36mMarianMTModel.forward\u001b[0;34m(self, input_ids, attention_mask, decoder_input_ids, decoder_attention_mask, head_mask, decoder_head_mask, cross_attn_head_mask, encoder_outputs, past_key_values, inputs_embeds, decoder_inputs_embeds, labels, use_cache, output_attentions, output_hidden_states, return_dict)\u001b[0m\n\u001b[1;32m   1450\u001b[0m     \u001b[39mif\u001b[39;00m decoder_input_ids \u001b[39mis\u001b[39;00m \u001b[39mNone\u001b[39;00m \u001b[39mand\u001b[39;00m decoder_inputs_embeds \u001b[39mis\u001b[39;00m \u001b[39mNone\u001b[39;00m:\n\u001b[1;32m   1451\u001b[0m         decoder_input_ids \u001b[39m=\u001b[39m shift_tokens_right(\n\u001b[1;32m   1452\u001b[0m             labels, \u001b[39mself\u001b[39m\u001b[39m.\u001b[39mconfig\u001b[39m.\u001b[39mpad_token_id, \u001b[39mself\u001b[39m\u001b[39m.\u001b[39mconfig\u001b[39m.\u001b[39mdecoder_start_token_id\n\u001b[1;32m   1453\u001b[0m         )\n\u001b[0;32m-> 1455\u001b[0m outputs \u001b[39m=\u001b[39m \u001b[39mself\u001b[39;49m\u001b[39m.\u001b[39;49mmodel(\n\u001b[1;32m   1456\u001b[0m     input_ids,\n\u001b[1;32m   1457\u001b[0m     attention_mask\u001b[39m=\u001b[39;49mattention_mask,\n\u001b[1;32m   1458\u001b[0m     decoder_input_ids\u001b[39m=\u001b[39;49mdecoder_input_ids,\n\u001b[1;32m   1459\u001b[0m     encoder_outputs\u001b[39m=\u001b[39;49mencoder_outputs,\n\u001b[1;32m   1460\u001b[0m     decoder_attention_mask\u001b[39m=\u001b[39;49mdecoder_attention_mask,\n\u001b[1;32m   1461\u001b[0m     head_mask\u001b[39m=\u001b[39;49mhead_mask,\n\u001b[1;32m   1462\u001b[0m     decoder_head_mask\u001b[39m=\u001b[39;49mdecoder_head_mask,\n\u001b[1;32m   1463\u001b[0m     cross_attn_head_mask\u001b[39m=\u001b[39;49mcross_attn_head_mask,\n\u001b[1;32m   1464\u001b[0m     past_key_values\u001b[39m=\u001b[39;49mpast_key_values,\n\u001b[1;32m   1465\u001b[0m     inputs_embeds\u001b[39m=\u001b[39;49minputs_embeds,\n\u001b[1;32m   1466\u001b[0m     decoder_inputs_embeds\u001b[39m=\u001b[39;49mdecoder_inputs_embeds,\n\u001b[1;32m   1467\u001b[0m     use_cache\u001b[39m=\u001b[39;49muse_cache,\n\u001b[1;32m   1468\u001b[0m     output_attentions\u001b[39m=\u001b[39;49moutput_attentions,\n\u001b[1;32m   1469\u001b[0m     output_hidden_states\u001b[39m=\u001b[39;49moutput_hidden_states,\n\u001b[1;32m   1470\u001b[0m     return_dict\u001b[39m=\u001b[39;49mreturn_dict,\n\u001b[1;32m   1471\u001b[0m )\n\u001b[1;32m   1472\u001b[0m lm_logits \u001b[39m=\u001b[39m \u001b[39mself\u001b[39m\u001b[39m.\u001b[39mlm_head(outputs[\u001b[39m0\u001b[39m]) \u001b[39m+\u001b[39m \u001b[39mself\u001b[39m\u001b[39m.\u001b[39mfinal_logits_bias\n\u001b[1;32m   1474\u001b[0m masked_lm_loss \u001b[39m=\u001b[39m \u001b[39mNone\u001b[39;00m\n",
      "File \u001b[0;32m~/anaconda3/envs/billlaw/lib/python3.11/site-packages/torch/nn/modules/module.py:1501\u001b[0m, in \u001b[0;36mModule._call_impl\u001b[0;34m(self, *args, **kwargs)\u001b[0m\n\u001b[1;32m   1496\u001b[0m \u001b[39m# If we don't have any hooks, we want to skip the rest of the logic in\u001b[39;00m\n\u001b[1;32m   1497\u001b[0m \u001b[39m# this function, and just call forward.\u001b[39;00m\n\u001b[1;32m   1498\u001b[0m \u001b[39mif\u001b[39;00m \u001b[39mnot\u001b[39;00m (\u001b[39mself\u001b[39m\u001b[39m.\u001b[39m_backward_hooks \u001b[39mor\u001b[39;00m \u001b[39mself\u001b[39m\u001b[39m.\u001b[39m_backward_pre_hooks \u001b[39mor\u001b[39;00m \u001b[39mself\u001b[39m\u001b[39m.\u001b[39m_forward_hooks \u001b[39mor\u001b[39;00m \u001b[39mself\u001b[39m\u001b[39m.\u001b[39m_forward_pre_hooks\n\u001b[1;32m   1499\u001b[0m         \u001b[39mor\u001b[39;00m _global_backward_pre_hooks \u001b[39mor\u001b[39;00m _global_backward_hooks\n\u001b[1;32m   1500\u001b[0m         \u001b[39mor\u001b[39;00m _global_forward_hooks \u001b[39mor\u001b[39;00m _global_forward_pre_hooks):\n\u001b[0;32m-> 1501\u001b[0m     \u001b[39mreturn\u001b[39;00m forward_call(\u001b[39m*\u001b[39;49margs, \u001b[39m*\u001b[39;49m\u001b[39m*\u001b[39;49mkwargs)\n\u001b[1;32m   1502\u001b[0m \u001b[39m# Do not call functions when jit is used\u001b[39;00m\n\u001b[1;32m   1503\u001b[0m full_backward_hooks, non_full_backward_hooks \u001b[39m=\u001b[39m [], []\n",
      "File \u001b[0;32m~/anaconda3/envs/billlaw/lib/python3.11/site-packages/transformers/models/marian/modeling_marian.py:1235\u001b[0m, in \u001b[0;36mMarianModel.forward\u001b[0;34m(self, input_ids, attention_mask, decoder_input_ids, decoder_attention_mask, head_mask, decoder_head_mask, cross_attn_head_mask, encoder_outputs, past_key_values, inputs_embeds, decoder_inputs_embeds, use_cache, output_attentions, output_hidden_states, return_dict)\u001b[0m\n\u001b[1;32m   1232\u001b[0m return_dict \u001b[39m=\u001b[39m return_dict \u001b[39mif\u001b[39;00m return_dict \u001b[39mis\u001b[39;00m \u001b[39mnot\u001b[39;00m \u001b[39mNone\u001b[39;00m \u001b[39melse\u001b[39;00m \u001b[39mself\u001b[39m\u001b[39m.\u001b[39mconfig\u001b[39m.\u001b[39muse_return_dict\n\u001b[1;32m   1234\u001b[0m \u001b[39mif\u001b[39;00m encoder_outputs \u001b[39mis\u001b[39;00m \u001b[39mNone\u001b[39;00m:\n\u001b[0;32m-> 1235\u001b[0m     encoder_outputs \u001b[39m=\u001b[39m \u001b[39mself\u001b[39;49m\u001b[39m.\u001b[39;49mencoder(\n\u001b[1;32m   1236\u001b[0m         input_ids\u001b[39m=\u001b[39;49minput_ids,\n\u001b[1;32m   1237\u001b[0m         attention_mask\u001b[39m=\u001b[39;49mattention_mask,\n\u001b[1;32m   1238\u001b[0m         head_mask\u001b[39m=\u001b[39;49mhead_mask,\n\u001b[1;32m   1239\u001b[0m         inputs_embeds\u001b[39m=\u001b[39;49minputs_embeds,\n\u001b[1;32m   1240\u001b[0m         output_attentions\u001b[39m=\u001b[39;49moutput_attentions,\n\u001b[1;32m   1241\u001b[0m         output_hidden_states\u001b[39m=\u001b[39;49moutput_hidden_states,\n\u001b[1;32m   1242\u001b[0m         return_dict\u001b[39m=\u001b[39;49mreturn_dict,\n\u001b[1;32m   1243\u001b[0m     )\n\u001b[1;32m   1244\u001b[0m \u001b[39m# If the user passed a tuple for encoder_outputs, we wrap it in a BaseModelOutput when return_dict=True\u001b[39;00m\n\u001b[1;32m   1245\u001b[0m \u001b[39melif\u001b[39;00m return_dict \u001b[39mand\u001b[39;00m \u001b[39mnot\u001b[39;00m \u001b[39misinstance\u001b[39m(encoder_outputs, BaseModelOutput):\n",
      "File \u001b[0;32m~/anaconda3/envs/billlaw/lib/python3.11/site-packages/torch/nn/modules/module.py:1501\u001b[0m, in \u001b[0;36mModule._call_impl\u001b[0;34m(self, *args, **kwargs)\u001b[0m\n\u001b[1;32m   1496\u001b[0m \u001b[39m# If we don't have any hooks, we want to skip the rest of the logic in\u001b[39;00m\n\u001b[1;32m   1497\u001b[0m \u001b[39m# this function, and just call forward.\u001b[39;00m\n\u001b[1;32m   1498\u001b[0m \u001b[39mif\u001b[39;00m \u001b[39mnot\u001b[39;00m (\u001b[39mself\u001b[39m\u001b[39m.\u001b[39m_backward_hooks \u001b[39mor\u001b[39;00m \u001b[39mself\u001b[39m\u001b[39m.\u001b[39m_backward_pre_hooks \u001b[39mor\u001b[39;00m \u001b[39mself\u001b[39m\u001b[39m.\u001b[39m_forward_hooks \u001b[39mor\u001b[39;00m \u001b[39mself\u001b[39m\u001b[39m.\u001b[39m_forward_pre_hooks\n\u001b[1;32m   1499\u001b[0m         \u001b[39mor\u001b[39;00m _global_backward_pre_hooks \u001b[39mor\u001b[39;00m _global_backward_hooks\n\u001b[1;32m   1500\u001b[0m         \u001b[39mor\u001b[39;00m _global_forward_hooks \u001b[39mor\u001b[39;00m _global_forward_pre_hooks):\n\u001b[0;32m-> 1501\u001b[0m     \u001b[39mreturn\u001b[39;00m forward_call(\u001b[39m*\u001b[39;49margs, \u001b[39m*\u001b[39;49m\u001b[39m*\u001b[39;49mkwargs)\n\u001b[1;32m   1502\u001b[0m \u001b[39m# Do not call functions when jit is used\u001b[39;00m\n\u001b[1;32m   1503\u001b[0m full_backward_hooks, non_full_backward_hooks \u001b[39m=\u001b[39m [], []\n",
      "File \u001b[0;32m~/anaconda3/envs/billlaw/lib/python3.11/site-packages/transformers/models/marian/modeling_marian.py:749\u001b[0m, in \u001b[0;36mMarianEncoder.forward\u001b[0;34m(self, input_ids, attention_mask, head_mask, inputs_embeds, output_attentions, output_hidden_states, return_dict)\u001b[0m\n\u001b[1;32m    747\u001b[0m     \u001b[39mraise\u001b[39;00m \u001b[39mValueError\u001b[39;00m(\u001b[39m\"\u001b[39m\u001b[39mYou cannot specify both input_ids and inputs_embeds at the same time\u001b[39m\u001b[39m\"\u001b[39m)\n\u001b[1;32m    748\u001b[0m \u001b[39melif\u001b[39;00m input_ids \u001b[39mis\u001b[39;00m \u001b[39mnot\u001b[39;00m \u001b[39mNone\u001b[39;00m:\n\u001b[0;32m--> 749\u001b[0m     input_shape \u001b[39m=\u001b[39m input_ids\u001b[39m.\u001b[39;49msize()\n\u001b[1;32m    750\u001b[0m     input_ids \u001b[39m=\u001b[39m input_ids\u001b[39m.\u001b[39mview(\u001b[39m-\u001b[39m\u001b[39m1\u001b[39m, input_shape[\u001b[39m-\u001b[39m\u001b[39m1\u001b[39m])\n\u001b[1;32m    751\u001b[0m \u001b[39melif\u001b[39;00m inputs_embeds \u001b[39mis\u001b[39;00m \u001b[39mnot\u001b[39;00m \u001b[39mNone\u001b[39;00m:\n",
      "\u001b[0;31mAttributeError\u001b[0m: 'list' object has no attribute 'size'"
     ]
    }
   ],
   "source": [
    "model.forward([\"hi\"])"
   ]
  },
  {
   "cell_type": "code",
   "execution_count": 362,
   "metadata": {},
   "outputs": [
    {
     "data": {
      "text/plain": [
       "['hallo', 'ich', 'bin', 'eine', 'haus']"
      ]
     },
     "execution_count": 362,
     "metadata": {},
     "output_type": "execute_result"
    }
   ],
   "source": [
    "list(\"hallo ich bin eine haus\".split())"
   ]
  },
  {
   "cell_type": "code",
   "execution_count": 418,
   "metadata": {},
   "outputs": [],
   "source": [
    "\n"
   ]
  },
  {
   "cell_type": "code",
   "execution_count": 458,
   "metadata": {},
   "outputs": [
    {
     "ename": "AttributeError",
     "evalue": "'Alignment' object has no attribute 'relative'",
     "output_type": "error",
     "traceback": [
      "\u001b[0;31m---------------------------------------------------------------------------\u001b[0m",
      "\u001b[0;31mAttributeError\u001b[0m                            Traceback (most recent call last)",
      "Cell \u001b[0;32mIn[458], line 1\u001b[0m\n\u001b[0;32m----> 1\u001b[0m sw_align(\u001b[39m\"\u001b[39;49m\u001b[39mdu ich bin eine haus\u001b[39;49m\u001b[39m\"\u001b[39;49m,\u001b[39m\"\u001b[39;49m\u001b[39mhallo ich a\u001b[39;49m\u001b[39m\"\u001b[39;49m)\u001b[39m.\u001b[39;49mrelative\n",
      "\u001b[0;31mAttributeError\u001b[0m: 'Alignment' object has no attribute 'relative'"
     ]
    }
   ],
   "source": [
    "sw_align(\"du ich bin eine haus\",\"hallo ich a\")"
   ]
  },
  {
   "cell_type": "code",
   "execution_count": 401,
   "metadata": {},
   "outputs": [],
   "source": [
    "import uta_align.align as align\n",
    "from inspect import getmembers, isfunction"
   ]
  },
  {
   "cell_type": "code",
   "execution_count": 402,
   "metadata": {},
   "outputs": [
    {
     "data": {
      "text/plain": [
       "['__doc__',\n",
       " '__file__',\n",
       " '__loader__',\n",
       " '__name__',\n",
       " '__package__',\n",
       " '__path__',\n",
       " '__spec__']"
      ]
     },
     "execution_count": 402,
     "metadata": {},
     "output_type": "execute_result"
    }
   ],
   "source": [
    "dir(align)"
   ]
  },
  {
   "cell_type": "code",
   "execution_count": 393,
   "metadata": {},
   "outputs": [
    {
     "data": {
      "text/plain": [
       "<module 'uta_align.align' (<_frozen_importlib_external.NamespaceLoader object at 0x7fa690082c10>)>"
      ]
     },
     "execution_count": 393,
     "metadata": {},
     "output_type": "execute_result"
    }
   ],
   "source": [
    "align"
   ]
  },
  {
   "cell_type": "code",
   "execution_count": 364,
   "metadata": {},
   "outputs": [
    {
     "ename": "AttributeError",
     "evalue": "module 'uta_align' has no attribute 'align'",
     "output_type": "error",
     "traceback": [
      "\u001b[0;31m---------------------------------------------------------------------------\u001b[0m",
      "\u001b[0;31mAttributeError\u001b[0m                            Traceback (most recent call last)",
      "Cell \u001b[0;32mIn[364], line 1\u001b[0m\n\u001b[0;32m----> 1\u001b[0m uta_align\u001b[39m.\u001b[39;49malign(\u001b[39m\"\u001b[39m\u001b[39mhallo ich bin eine haus\u001b[39m\u001b[39m\"\u001b[39m\u001b[39m.\u001b[39msplit(),\u001b[39m\"\u001b[39m\u001b[39mhallo ich\u001b[39m\u001b[39m\"\u001b[39m\u001b[39m.\u001b[39msplit())\n",
      "\u001b[0;31mAttributeError\u001b[0m: module 'uta_align' has no attribute 'align'"
     ]
    }
   ],
   "source": [
    "uta_align.align(\"hallo ich bin eine haus\".split(),\"hallo ich\".split())"
   ]
  },
  {
   "cell_type": "code",
   "execution_count": 403,
   "metadata": {},
   "outputs": [],
   "source": [
    "import swalign"
   ]
  }
 ],
 "metadata": {
  "kernelspec": {
   "display_name": "bill-law",
   "language": "python",
   "name": "python3"
  },
  "language_info": {
   "codemirror_mode": {
    "name": "ipython",
    "version": 3
   },
   "file_extension": ".py",
   "mimetype": "text/x-python",
   "name": "python",
   "nbconvert_exporter": "python",
   "pygments_lexer": "ipython3",
   "version": "3.11.3"
  },
  "orig_nbformat": 4
 },
 "nbformat": 4,
 "nbformat_minor": 2
}
