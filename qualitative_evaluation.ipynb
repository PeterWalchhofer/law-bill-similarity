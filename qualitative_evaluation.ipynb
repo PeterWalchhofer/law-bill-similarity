{
 "cells": [
  {
   "cell_type": "code",
   "execution_count": null,
   "metadata": {},
   "outputs": [],
   "source": [
    "import polars as pl\n",
    "from polars import col\n",
    "from bill_law_similarity.vector import preprocess, compute_cosine_similarity\n",
    "from bill_law_similarity.docu_toads import docu_toads_similarity\n",
    "from bill_law_similarity.bow import bow_overlap, bow_pos_overlap\n",
    "from bill_law_similarity.string_diff import diff\n",
    "from bill_law_similarity.deep import BertSimilarity\n",
    "from bill_law_similarity.string_diff import sw_align\n",
    "import jaro\n",
    "\n",
    "%load_ext autoreload\n",
    "%autoreload 2"
   ]
  },
  {
   "cell_type": "code",
   "execution_count": null,
   "metadata": {},
   "outputs": [],
   "source": [
    "def load_df(type, lang=\"de\", preprocessing=True):\n",
    "    df = pl.read_csv(f\"data/annotated/{type}_sub_sec_pairs.csv\").rename(\n",
    "        {\"sec_a_text\": \"bill_text\", \"sec_b_text\": \"law_text\"}\n",
    "    )\n",
    "    if not preprocessing:\n",
    "        return df\n",
    "    preprocessed = preprocess(df, lang)\n",
    "    return preprocessed\n"
   ]
  },
  {
   "cell_type": "code",
   "execution_count": null,
   "metadata": {},
   "outputs": [],
   "source": [
    "# train_metrics_en, val_metrics_en, test_metrics_en = pipeline(\"en\")\n",
    "train_metrics_en = pl.read_csv(\"data/results/train_metrics_en.csv\")\n",
    "val_metrics_en = pl.read_csv(\"data/results/val_metrics_en.csv\")\n",
    "test_metrics_en = pl.read_csv(\"data/results/test_metrics_en.csv\")"
   ]
  },
  {
   "cell_type": "code",
   "execution_count": null,
   "metadata": {},
   "outputs": [],
   "source": [
    "test_de = load_df(\"test\", \"de\", preprocessing=False).with_columns([\n",
    "    pl.col(\"label\") / 4\n",
    "])\n",
    "test_en = load_df(\"test\", \"en\", preprocessing=False).with_columns([\n",
    "    pl.col(\"label\") / 4\n",
    "])"
   ]
  },
  {
   "attachments": {},
   "cell_type": "markdown",
   "metadata": {},
   "source": [
    "# Hard Sentences"
   ]
  },
  {
   "cell_type": "code",
   "execution_count": null,
   "metadata": {},
   "outputs": [],
   "source": [
    "import itertools\n",
    "a = [\"We prefer environmental protection over economic growth\", \"We prefer economic growth over environmental protection\", \"We prefer climate change mitigation over economic performance\", \"We prefer economic performance over climate change mitigation\"]\n",
    "# combine every two sentences\n",
    "b = list(itertools.combinations(a, 2))"
   ]
  },
  {
   "cell_type": "code",
   "execution_count": null,
   "metadata": {},
   "outputs": [],
   "source": [
    "example = pl.from_records(b, orient=\"row\", schema=[\"bill_text\", \"law_text\"])\n",
    "example_pre = preprocess(example, \"en\")\n",
    "pl.concat([example,similarity_metrics(example_pre)[:,10:]], how=\"horizontal\")#.write_csv(\"christian_beispiel.csv\")"
   ]
  }
 ],
 "metadata": {
  "language_info": {
   "name": "python"
  },
  "orig_nbformat": 4
 },
 "nbformat": 4,
 "nbformat_minor": 2
}
